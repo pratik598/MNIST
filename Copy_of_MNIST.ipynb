{
  "nbformat": 4,
  "nbformat_minor": 0,
  "metadata": {
    "colab": {
      "name": "Copy of MNIST.ipynb",
      "provenance": []
    },
    "kernelspec": {
      "name": "python3",
      "display_name": "Python 3"
    },
    "accelerator": "GPU"
  },
  "cells": [
    {
      "cell_type": "code",
      "metadata": {
        "id": "fEv2V-Ytnl_3"
      },
      "source": [
        "import tensorflow as tf\n",
        "from tensorflow.keras.datasets import mnist\n",
        "data = mnist.load_data()"
      ],
      "execution_count": null,
      "outputs": []
    },
    {
      "cell_type": "code",
      "metadata": {
        "id": "LqNm1V3mpPJb"
      },
      "source": [
        "import numpy as np\n",
        "import matplotlib\n",
        "matplotlib.use('agg')\n",
        "import matplotlib.pyplot as plt\n",
        "from tensorflow.keras.datasets import mnist\n",
        "from tensorflow.keras.models import Sequential, load_model\n",
        "from tensorflow.keras.layers import Dense, Dropout, Activation\n",
        "from tensorflow.keras import utils as np_utils"
      ],
      "execution_count": null,
      "outputs": []
    },
    {
      "cell_type": "code",
      "metadata": {
        "id": "1uUJnEQrs1kC"
      },
      "source": [
        "(X_train, y_train), (X_test, y_test) = mnist.load_data()"
      ],
      "execution_count": null,
      "outputs": []
    },
    {
      "cell_type": "code",
      "metadata": {
        "id": "xffCEv97t_mX",
        "colab": {
          "base_uri": "https://localhost:8080/",
          "height": 284
        },
        "outputId": "f4cb3684-36cf-44ff-93bc-1154565267af"
      },
      "source": [
        "fig = plt.figure()\n",
        "for i in range(9):\n",
        "  plt.subplot(3,3,i+1)\n",
        "  plt.tight_layout()\n",
        "  plt.imshow(X_train[i], cmap='gray', interpolation='none')\n",
        "  plt.title(\"Digit: {}\".format(y_train[i]))\n",
        "  plt.xticks([])\n",
        "  plt.yticks([])\n",
        "fig"
      ],
      "execution_count": null,
      "outputs": [
        {
          "output_type": "execute_result",
          "data": {
            "image/png": "[encoded data removed]",
            "text/plain": [
              "<Figure size 432x288 with 9 Axes>"
            ]
          },
          "metadata": {
            "tags": []
          },
          "execution_count": 8
        }
      ]
    },
    {
      "cell_type": "code",
      "metadata": {
        "id": "Fo8mY2XluxDF",
        "colab": {
          "base_uri": "https://localhost:8080/"
        },
        "outputId": "39d26e14-37e2-41bf-e82f-b670bfb21c48"
      },
      "source": [
        "# let's print the shape before we reshape and normalize\n",
        "print(\"X_train shape\", X_train.shape)\n",
        "print(\"y_train shape\", y_train.shape)\n",
        "print(\"X_test shape\", X_test.shape)\n",
        "print(\"y_test shape\", y_test.shape)\n",
        "\n",
        "# building the input vector from the 28x28 pixels\n",
        "X_train = X_train.reshape(60000, 784)\n",
        "X_test = X_test.reshape(10000, 784)\n",
        "X_train = X_train.astype('float32')\n",
        "X_test = X_test.astype('float32')\n",
        "\n",
        "# normalizing the data to help with the training\n",
        "X_train /= 255\n",
        "X_test /= 255\n",
        "\n",
        "# print the final input shape ready for training\n",
        "print(\"Train matrix shape\", X_train.shape)\n",
        "print(\"Test matrix shape\", X_test.shape)"
      ],
      "execution_count": null,
      "outputs": [
        {
          "output_type": "stream",
          "text": [
            "X_train shape (60000, 28, 28)\n",
            "y_train shape (60000,)\n",
            "X_test shape (10000, 28, 28)\n",
            "y_test shape (10000,)\n",
            "Train matrix shape (60000, 784)\n",
            "Test matrix shape (10000, 784)\n"
          ],
          "name": "stdout"
        }
      ]
    },
    {
      "cell_type": "code",
      "metadata": {
        "id": "Q34cB15YwPks",
        "colab": {
          "base_uri": "https://localhost:8080/"
        },
        "outputId": "faa2e733-f36d-426a-ac6f-d6efd2b69a7b"
      },
      "source": [
        "# one-hot encoding using keras' numpy-related utilities\n",
        "n_classes = 10\n",
        "print(\"Shape before one-hot encoding: \", y_train.shape)\n",
        "Y_train = np_utils.to_categorical(y_train, n_classes)\n",
        "Y_test = np_utils.to_categorical(y_test, n_classes)\n",
        "print(\"Shape after one-hot encoding: \", Y_train.shape)"
      ],
      "execution_count": null,
      "outputs": [
        {
          "output_type": "stream",
          "text": [
            "Shape before one-hot encoding:  (60000,)\n",
            "Shape after one-hot encoding:  (60000, 10)\n"
          ],
          "name": "stdout"
        }
      ]
    },
    {
      "cell_type": "code",
      "metadata": {
        "id": "KsHMAB6wwVEL"
      },
      "source": [
        "model = Sequential() \n",
        "\n",
        "#1st hidden layer\n",
        "model.add(Dense(512, input_shape=(784,)))\n",
        "model.add(Activation('relu'))                            \n",
        "#model.add(Dropout(0.2))\n",
        "\n",
        "#2nd hidden layer\n",
        "model.add(Dense(784))\n",
        "model.add(Activation('relu'))\n",
        "#model.add(Dropout(0.2))\n",
        "\n",
        "#3rd hidden layer\n",
        "model.add(Dense(128))\n",
        "model.add(Activation('relu'))\n",
        "#model.add(Dropout(0.4))\n",
        "\n",
        "#Output layer\n",
        "model.add(Dense(10))\n",
        "model.add(Activation('softmax'))"
      ],
      "execution_count": null,
      "outputs": []
    },
    {
      "cell_type": "code",
      "metadata": {
        "id": "jQkUrEO8IVD7",
        "colab": {
          "base_uri": "https://localhost:8080/"
        },
        "outputId": "7aa20fa2-9870-4e57-961b-677b014ef13b"
      },
      "source": [
        "model.summary()"
      ],
      "execution_count": null,
      "outputs": [
        {
          "output_type": "stream",
          "text": [
            "Model: \"sequential\"\n",
            "_________________________________________________________________\n",
            "Layer (type)                 Output Shape              Param #   \n",
            "=================================================================\n",
            "dense (Dense)                (None, 512)               401920    \n",
            "_________________________________________________________________\n",
            "activation (Activation)      (None, 512)               0         \n",
            "_________________________________________________________________\n",
            "dense_1 (Dense)              (None, 784)               402192    \n",
            "_________________________________________________________________\n",
            "activation_1 (Activation)    (None, 784)               0         \n",
            "_________________________________________________________________\n",
            "dense_2 (Dense)              (None, 128)               100480    \n",
            "_________________________________________________________________\n",
            "activation_2 (Activation)    (None, 128)               0         \n",
            "_________________________________________________________________\n",
            "dense_3 (Dense)              (None, 10)                1290      \n",
            "_________________________________________________________________\n",
            "activation_3 (Activation)    (None, 10)                0         \n",
            "=================================================================\n",
            "Total params: 905,882\n",
            "Trainable params: 905,882\n",
            "Non-trainable params: 0\n",
            "_________________________________________________________________\n"
          ],
          "name": "stdout"
        }
      ]
    },
    {
      "cell_type": "code",
      "metadata": {
        "id": "zaopwtul5zEm"
      },
      "source": [
        "# compiling the sequential model\n",
        "model.compile(loss='categorical_crossentropy', metrics=['accuracy'], optimizer='sgd')"
      ],
      "execution_count": null,
      "outputs": []
    },
    {
      "cell_type": "code",
      "metadata": {
        "id": "99uoRpg155la",
        "colab": {
          "base_uri": "https://localhost:8080/"
        },
        "outputId": "0cd63aa4-f69d-4a7c-e520-28e7461a1610"
      },
      "source": [
        "# training the model and saving metrics in history\n",
        "history = model.fit(X_train, Y_train,\n",
        "          batch_size=128, epochs=20,\n",
        "          verbose=2,\n",
        "          validation_data=(X_test, Y_test))"
      ],
      "execution_count": null,
      "outputs": [
        {
          "output_type": "stream",
          "text": [
            "Epoch 1/20\n",
            "469/469 - 3s - loss: 1.0726 - accuracy: 0.7674 - val_loss: 0.4630 - val_accuracy: 0.8848\n",
            "Epoch 2/20\n",
            "469/469 - 1s - loss: 0.3981 - accuracy: 0.8918 - val_loss: 0.3301 - val_accuracy: 0.9092\n",
            "Epoch 3/20\n",
            "469/469 - 1s - loss: 0.3189 - accuracy: 0.9097 - val_loss: 0.2905 - val_accuracy: 0.9186\n",
            "Epoch 4/20\n",
            "469/469 - 1s - loss: 0.2807 - accuracy: 0.9199 - val_loss: 0.2589 - val_accuracy: 0.9291\n",
            "Epoch 5/20\n",
            "469/469 - 1s - loss: 0.2552 - accuracy: 0.9273 - val_loss: 0.2377 - val_accuracy: 0.9313\n",
            "Epoch 6/20\n",
            "469/469 - 1s - loss: 0.2348 - accuracy: 0.9330 - val_loss: 0.2222 - val_accuracy: 0.9377\n",
            "Epoch 7/20\n",
            "469/469 - 1s - loss: 0.2187 - accuracy: 0.9379 - val_loss: 0.2092 - val_accuracy: 0.9397\n",
            "Epoch 8/20\n",
            "469/469 - 1s - loss: 0.2048 - accuracy: 0.9412 - val_loss: 0.1967 - val_accuracy: 0.9427\n",
            "Epoch 9/20\n",
            "469/469 - 1s - loss: 0.1922 - accuracy: 0.9452 - val_loss: 0.1898 - val_accuracy: 0.9433\n",
            "Epoch 10/20\n",
            "469/469 - 1s - loss: 0.1815 - accuracy: 0.9488 - val_loss: 0.1788 - val_accuracy: 0.9473\n",
            "Epoch 11/20\n",
            "469/469 - 1s - loss: 0.1709 - accuracy: 0.9517 - val_loss: 0.1694 - val_accuracy: 0.9495\n",
            "Epoch 12/20\n",
            "469/469 - 1s - loss: 0.1625 - accuracy: 0.9539 - val_loss: 0.1633 - val_accuracy: 0.9510\n",
            "Epoch 13/20\n",
            "469/469 - 1s - loss: 0.1541 - accuracy: 0.9559 - val_loss: 0.1557 - val_accuracy: 0.9541\n",
            "Epoch 14/20\n",
            "469/469 - 1s - loss: 0.1465 - accuracy: 0.9579 - val_loss: 0.1509 - val_accuracy: 0.9561\n",
            "Epoch 15/20\n",
            "469/469 - 1s - loss: 0.1396 - accuracy: 0.9606 - val_loss: 0.1439 - val_accuracy: 0.9569\n",
            "Epoch 16/20\n",
            "469/469 - 1s - loss: 0.1329 - accuracy: 0.9624 - val_loss: 0.1402 - val_accuracy: 0.9577\n",
            "Epoch 17/20\n",
            "469/469 - 1s - loss: 0.1270 - accuracy: 0.9640 - val_loss: 0.1391 - val_accuracy: 0.9581\n",
            "Epoch 18/20\n",
            "469/469 - 1s - loss: 0.1214 - accuracy: 0.9658 - val_loss: 0.1307 - val_accuracy: 0.9609\n",
            "Epoch 19/20\n",
            "469/469 - 1s - loss: 0.1165 - accuracy: 0.9668 - val_loss: 0.1263 - val_accuracy: 0.9620\n",
            "Epoch 20/20\n",
            "469/469 - 1s - loss: 0.1116 - accuracy: 0.9685 - val_loss: 0.1203 - val_accuracy: 0.9647\n"
          ],
          "name": "stdout"
        }
      ]
    },
    {
      "cell_type": "code",
      "metadata": {
        "id": "gLfqaUjk6CEL",
        "colab": {
          "base_uri": "https://localhost:8080/"
        },
        "outputId": "27bdb3ca-ba0c-4903-db0c-4b7b94df96df"
      },
      "source": [
        "loss_and_metrics = model.evaluate(X_test, Y_test, verbose=2)\n",
        "\n",
        "print(\"Test Loss\", loss_and_metrics[0])\n",
        "print(\"Test Accuracy\", loss_and_metrics[1])"
      ],
      "execution_count": null,
      "outputs": [
        {
          "output_type": "stream",
          "text": [
            "313/313 - 1s - loss: 0.1203 - accuracy: 0.9647\n",
            "Test Loss 0.1202935054898262\n",
            "Test Accuracy 0.9646999835968018\n"
          ],
          "name": "stdout"
        }
      ]
    },
    {
      "cell_type": "code",
      "metadata": {
        "id": "R8oarrVoXc-d"
      },
      "source": [
        ""
      ],
      "execution_count": null,
      "outputs": []
    }
  ]
}